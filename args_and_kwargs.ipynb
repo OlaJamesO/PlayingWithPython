{
 "cells": [
  {
   "cell_type": "code",
   "execution_count": 1,
   "metadata": {},
   "outputs": [],
   "source": [
    "# *args = arguments **kwargs = keyword arguments\n"
   ]
  },
  {
   "cell_type": "code",
   "execution_count": 2,
   "metadata": {},
   "outputs": [],
   "source": [
    "def myfunc(a,b):\n",
    "    #retuns 5% of thesum of a and b\n",
    "    return sum((a,b)) * 0.05\n",
    "    "
   ]
  },
  {
   "cell_type": "code",
   "execution_count": 6,
   "metadata": {},
   "outputs": [
    {
     "data": {
      "text/plain": [
       "4.0"
      ]
     },
     "execution_count": 6,
     "metadata": {},
     "output_type": "execute_result"
    }
   ],
   "source": [
    "myfunc(20,60)"
   ]
  },
  {
   "cell_type": "code",
   "execution_count": 31,
   "metadata": {},
   "outputs": [],
   "source": [
    "#*args expample below\n",
    "\n",
    "def myfunc_args(*args):\n",
    "    #retuns 5% of thesum of a and b\n",
    "    for item in args:\n",
    "        print(item)\n",
    "    return sum(args) * 0.05"
   ]
  },
  {
   "cell_type": "code",
   "execution_count": 32,
   "metadata": {},
   "outputs": [
    {
     "name": "stdout",
     "output_type": "stream",
     "text": [
      "10\n",
      "20\n",
      "30\n",
      "40\n",
      "50\n",
      "60\n",
      "80\n"
     ]
    },
    {
     "data": {
      "text/plain": [
       "14.5"
      ]
     },
     "execution_count": 32,
     "metadata": {},
     "output_type": "execute_result"
    }
   ],
   "source": [
    "myfunc_args(10,20,30,40,50,60,80)"
   ]
  },
  {
   "cell_type": "code",
   "execution_count": 51,
   "metadata": {},
   "outputs": [],
   "source": [
    "# keyword argument\n",
    "def myfunckwarg(**kwargs):\n",
    "    print(kwargs)\n",
    "    if 'fruit' in kwargs:\n",
    "        print(f'My fruit of choice is {kwargs[\"fruit\"]} and my favorite veggie is {kwargs[\"veggie\"]}')\n",
    "    else:\n",
    "        print('i did not find any fruit here')"
   ]
  },
  {
   "cell_type": "code",
   "execution_count": 52,
   "metadata": {},
   "outputs": [
    {
     "name": "stdout",
     "output_type": "stream",
     "text": [
      "{'fruit': 'apple', 'veggie': 'lettuce'}\n",
      "My fruit of choice is apple and my favorite veggie is lettuce\n"
     ]
    }
   ],
   "source": [
    "myfunckwarg(fruit='apple', veggie ='lettuce')"
   ]
  },
  {
   "cell_type": "code",
   "execution_count": 59,
   "metadata": {},
   "outputs": [],
   "source": [
    "def myfunt(*args, **kwargs):\n",
    "    print(args)\n",
    "    print(kwargs)\n",
    "    print(f'i would like {args[1]} {kwargs[\"food\"]}')"
   ]
  },
  {
   "cell_type": "code",
   "execution_count": 60,
   "metadata": {},
   "outputs": [
    {
     "name": "stdout",
     "output_type": "stream",
     "text": [
      "(10, 20, 30)\n",
      "{'fruit': 'Mango', 'veggie': 'Tomato', 'food': 'Salad'}\n",
      "i would like 20 Salad\n"
     ]
    }
   ],
   "source": [
    "myfunt(10,20,30, fruit='Mango',veggie='Tomato',food='Salad')"
   ]
  },
  {
   "cell_type": "code",
   "execution_count": 63,
   "metadata": {},
   "outputs": [],
   "source": [
    "def myfuncs_args(*args):\n",
    "    #retuns 5% of the sum of a and b\n",
    "    for item in args:\n",
    "        print(item)\n",
    "    return sum(args) *0.10"
   ]
  },
  {
   "cell_type": "code",
   "execution_count": 64,
   "metadata": {},
   "outputs": [
    {
     "name": "stdout",
     "output_type": "stream",
     "text": [
      "102\n",
      "20\n"
     ]
    },
    {
     "data": {
      "text/plain": [
       "12.200000000000001"
      ]
     },
     "execution_count": 64,
     "metadata": {},
     "output_type": "execute_result"
    }
   ],
   "source": [
    "myfuncs_args(102,20)"
   ]
  },
  {
   "cell_type": "code",
   "execution_count": 66,
   "metadata": {},
   "outputs": [],
   "source": [
    "def myfunts(*args, **kwargs):\n",
    "    print(args)\n",
    "    print(kwargs)\n",
    "    print(f'i would like {args[1]} {kwargs[\"veggie\"]}')"
   ]
  },
  {
   "cell_type": "code",
   "execution_count": 67,
   "metadata": {},
   "outputs": [
    {
     "name": "stdout",
     "output_type": "stream",
     "text": [
      "(10, 20, 30)\n",
      "{'fruit': 'Mango', 'veggie': 'Tomato', 'food': 'Salad'}\n",
      "i would like 20 Salad\n"
     ]
    }
   ],
   "source": [
    "myfunt(10,20,30, fruit='Mango',veggie='Tomato',food='Salad')"
   ]
  },
  {
   "cell_type": "code",
   "execution_count": 8,
   "metadata": {},
   "outputs": [],
   "source": [
    "def ab(*args):\n",
    "    even_numb = []\n",
    "    for number in args:\n",
    "        if number % 2 == 0:\n",
    "            even_numb.append(number)\n",
    "        else:\n",
    "            pass\n",
    "    return even_numb"
   ]
  },
  {
   "cell_type": "code",
   "execution_count": 9,
   "metadata": {},
   "outputs": [
    {
     "data": {
      "text/plain": [
       "[10, 20, 30, 56]"
      ]
     },
     "execution_count": 9,
     "metadata": {},
     "output_type": "execute_result"
    }
   ],
   "source": [
    "ab(10,20,30,56,21)"
   ]
  },
  {
   "cell_type": "code",
   "execution_count": null,
   "metadata": {},
   "outputs": [],
   "source": [
    "   even_number = []\n",
    "    \n",
    "    for number in num_list:\n",
    "        if number % 2 == 0:\n",
    "            even_number.append(number)\n",
    "        else:\n",
    "            pass\n",
    "    \n",
    "    return even_number"
   ]
  },
  {
   "cell_type": "code",
   "execution_count": 100,
   "metadata": {},
   "outputs": [],
   "source": [
    "def myfuct(word):\n",
    "    mylist = []\n",
    "    \n",
    "    for letter in range(len(word)):\n",
    "        if letter % 2 == 0:\n",
    "            mylist.append(word[letter].upper())\n",
    "        else:\n",
    "            mylist.append(word[letter].lower())\n",
    "    return ''.join(mylist)"
   ]
  },
  {
   "cell_type": "code",
   "execution_count": 101,
   "metadata": {},
   "outputs": [
    {
     "data": {
      "text/plain": [
       "'AnThRoPoMoRpHiSm'"
      ]
     },
     "execution_count": 101,
     "metadata": {},
     "output_type": "execute_result"
    }
   ],
   "source": [
    "myfuct('anthropomorphism')"
   ]
  },
  {
   "cell_type": "code",
   "execution_count": 104,
   "metadata": {},
   "outputs": [],
   "source": [
    "def spy_game(*nums):\n",
    "    \n",
    "    code = [0,0,7,'X']\n",
    "    for num in nums:\n",
    "        if num == code[0]:\n",
    "            code.pop(0)\n",
    "            \n",
    "    return len(code) == 1"
   ]
  },
  {
   "cell_type": "code",
   "execution_count": 107,
   "metadata": {},
   "outputs": [
    {
     "data": {
      "text/plain": [
       "True"
      ]
     },
     "execution_count": 107,
     "metadata": {},
     "output_type": "execute_result"
    }
   ],
   "source": [
    "spy_game(1,0,3,4,0,4,7,0)"
   ]
  },
  {
   "cell_type": "code",
   "execution_count": 117,
   "metadata": {},
   "outputs": [],
   "source": [
    "def count_prime(num):\n",
    "    \n",
    "    #check for 0 or 1 input\n",
    "    if num < 2:\n",
    "        return 0\n",
    "    \n",
    "    ####################\n",
    "    # 2 or greater\n",
    "    ###################\n",
    "    \n",
    "    # store prime numbers\n",
    "    primes = [2]\n",
    "    # counter going upto input num\n",
    "    x = 3\n",
    "    \n",
    "    # x is going through every number\n",
    "    while x <= num:\n",
    "        #check if x is prime\n",
    "        for y in primes:\n",
    "            if x % y == 0:\n",
    "                x += 2\n",
    "                break\n",
    "        else:\n",
    "            primes.append(x)\n",
    "            x += 2\n",
    "    \n",
    "    print(primes)\n",
    "    return len(primes)\n",
    "    \n",
    "    "
   ]
  },
  {
   "cell_type": "code",
   "execution_count": 118,
   "metadata": {},
   "outputs": [
    {
     "name": "stdout",
     "output_type": "stream",
     "text": [
      "[2, 3, 5, 7, 11, 13, 17, 19, 23, 29, 31, 37, 41, 43, 47]\n"
     ]
    },
    {
     "data": {
      "text/plain": [
       "15"
      ]
     },
     "execution_count": 118,
     "metadata": {},
     "output_type": "execute_result"
    }
   ],
   "source": [
    "count_prime(50)"
   ]
  },
  {
   "cell_type": "code",
   "execution_count": 189,
   "metadata": {},
   "outputs": [],
   "source": [
    "def print_big(letter):\n",
    "    patterns = {1:'  *  ',2:' * * ',3:'*   *',4:'*****',5:'**** ',6:'   * ',7:' *   ',8:'*  * ',9:'*   '}\n",
    "    alphabet = {'A': [1,2,4,3,3],'B':[5,3,5,3,5],'C':[4,9,9,9,4],'D':[5,3,3,3,5],'E':[4,9,4,9,4]}\n",
    "    for pattern in alphabet[letter.upper()]:\n",
    "        print(patterns[pattern])"
   ]
  },
  {
   "cell_type": "code",
   "execution_count": 190,
   "metadata": {},
   "outputs": [
    {
     "name": "stdout",
     "output_type": "stream",
     "text": [
      "*****\n",
      "*   \n",
      "*   \n",
      "*   \n",
      "*****\n"
     ]
    }
   ],
   "source": [
    "print_big('c')"
   ]
  },
  {
   "cell_type": "code",
   "execution_count": null,
   "metadata": {},
   "outputs": [],
   "source": []
  },
  {
   "cell_type": "code",
   "execution_count": null,
   "metadata": {},
   "outputs": [],
   "source": []
  }
 ],
 "metadata": {
  "kernelspec": {
   "display_name": "Python 3",
   "language": "python",
   "name": "python3"
  },
  "language_info": {
   "codemirror_mode": {
    "name": "ipython",
    "version": 3
   },
   "file_extension": ".py",
   "mimetype": "text/x-python",
   "name": "python",
   "nbconvert_exporter": "python",
   "pygments_lexer": "ipython3",
   "version": "3.7.6"
  }
 },
 "nbformat": 4,
 "nbformat_minor": 4
}
