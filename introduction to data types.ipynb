{
 "cells": [
  {
   "cell_type": "markdown",
   "metadata": {},
   "source": [
    "intergers = type int (3 300 200) \n",
    "floating point = type float (2.3 4.6 100.0)\n",
    "string = type str (\"Hello\" 'Sammy' \"2000\" \"23Dff\")\n",
    "lists = type list [10,\"hello\",202.2] ordered sequence of objects \n",
    "Dictionaries type dict {\"mykey\":\"value\", \"name\":\"Frankie\"} unordered key: Value pairs \n",
    "tuples = type tup (10.\"hello\",200.3) ordered immutable sequence objects (immutable means the values are unchagable)\n",
    "sets = type set {\"a\",\"b\"} unordered collection of unique objects \n",
    "Booleans type bool (True or False) logical value indicating True or False"
   ]
  },
  {
   "cell_type": "code",
   "execution_count": null,
   "metadata": {},
   "outputs": [],
   "source": []
  }
 ],
 "metadata": {
  "kernelspec": {
   "display_name": "Python 3",
   "language": "python",
   "name": "python3"
  },
  "language_info": {
   "codemirror_mode": {
    "name": "ipython",
    "version": 3
   },
   "file_extension": ".py",
   "mimetype": "text/x-python",
   "name": "python",
   "nbconvert_exporter": "python",
   "pygments_lexer": "ipython3",
   "version": "3.7.6"
  }
 },
 "nbformat": 4,
 "nbformat_minor": 4
}
