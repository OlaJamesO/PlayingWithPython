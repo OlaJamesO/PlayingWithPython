{
 "cells": [
  {
   "cell_type": "markdown",
   "metadata": {},
   "source": [
    "note: \n",
    "\n",
    "pip install request\n",
    "pip install colorama\n",
    "\n",
    "interact with colorama\n",
    "\n",
    "/* from colorama import init\n",
    "    init()\n",
    "    from colorama import Fore\n",
    "   print(Fore.RED + \"some red text\")\n",
    "    \n",
    "    output will be red text \n",
    "    \n",
    "   print(Fore.GREEN + \"swtich to green text\")\n",
    "   Output will be chnage to green \n",
    "   \n",
    "   \n",
    "excel python package---\n",
    "python training> pip install openpyxl\n",
    "    import openpyxl \n",
    "    --------------- and so on "
   ]
  }
 ],
 "metadata": {
  "kernelspec": {
   "display_name": "Python 3",
   "language": "python",
   "name": "python3"
  },
  "language_info": {
   "codemirror_mode": {
    "name": "ipython",
    "version": 3
   },
   "file_extension": ".py",
   "mimetype": "text/x-python",
   "name": "python",
   "nbconvert_exporter": "python",
   "pygments_lexer": "ipython3",
   "version": "3.7.6"
  }
 },
 "nbformat": 4,
 "nbformat_minor": 4
}
