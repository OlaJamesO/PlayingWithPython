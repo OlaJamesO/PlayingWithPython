{
 "cells": [
  {
   "cell_type": "code",
   "execution_count": 1,
   "metadata": {},
   "outputs": [],
   "source": [
    " import random"
   ]
  },
  {
   "cell_type": "code",
   "execution_count": 9,
   "metadata": {},
   "outputs": [
    {
     "name": "stdout",
     "output_type": "stream",
     "text": [
      "Hello, What's your name? James\n",
      "okay! James I am Guessing a number between 1 and 10:\n",
      "3\n",
      "Your guess is too low\n",
      "1\n",
      "Your guess is too low\n",
      "4\n",
      "Your guess is too low\n",
      "5\n",
      "You guessed the number in 4 tries!\n"
     ]
    }
   ],
   "source": [
    "number = random.randint(1, 10)\n",
    "# prompt the user to enter name\n",
    "player_name = input(\"Hello, What's your name? \")\n",
    "number_of_guesses = 0\n",
    "print('okay! '+ player_name+ ' I am Guessing a number between 1 and 10:')\n",
    "\n",
    "while number_of_guesses < 5:\n",
    "    guess = int(input())\n",
    "    number_of_guesses += 1\n",
    "    if guess < number:\n",
    "        print('Your guess is too low')\n",
    "    if guess > number:\n",
    "        print('Your guess is too high')\n",
    "    if guess == number:\n",
    "        break\n",
    "if guess == number:\n",
    "    print('You guessed the number in ' + str(number_of_guesses) + ' tries!')\n",
    "else:\n",
    "    print('You did not guess the number, The number was ' + str(number))\n"
   ]
  },
  {
   "cell_type": "code",
   "execution_count": 10,
   "metadata": {},
   "outputs": [
    {
     "name": "stdout",
     "output_type": "stream",
     "text": [
      "Enter a color: green\n",
      "Enter a plural noun: kings\n",
      "Enter a celebrity: Jack\n",
      "Roses are green\n",
      "kings are blue\n",
      "I love Jack\n"
     ]
    }
   ],
   "source": [
    "color = input(\"Enter a color: \")\n",
    "pluralNoun = input(\"Enter a plural noun: \")\n",
    "celebrity = input(\"Enter a celebrity: \")\n",
    "\n",
    "print(\"Roses are\", color)\n",
    "print(pluralNoun + \" are blue\")\n",
    "print(\"I love\", celebrity)"
   ]
  },
  {
   "cell_type": "code",
   "execution_count": null,
   "metadata": {},
   "outputs": [],
   "source": []
  }
 ],
 "metadata": {
  "kernelspec": {
   "display_name": "Python 3",
   "language": "python",
   "name": "python3"
  },
  "language_info": {
   "codemirror_mode": {
    "name": "ipython",
    "version": 3
   },
   "file_extension": ".py",
   "mimetype": "text/x-python",
   "name": "python",
   "nbconvert_exporter": "python",
   "pygments_lexer": "ipython3",
   "version": "3.7.6"
  }
 },
 "nbformat": 4,
 "nbformat_minor": 4
}
