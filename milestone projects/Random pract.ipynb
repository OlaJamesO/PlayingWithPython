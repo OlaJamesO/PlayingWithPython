{
 "cells": [
  {
   "cell_type": "code",
   "execution_count": 2,
   "metadata": {},
   "outputs": [
    {
     "name": "stdout",
     "output_type": "stream",
     "text": [
      "Enter a color: red\n",
      "Enter a plural noun: princes\n",
      "Enter a celebrity: James O\n",
      "Roses are red\n",
      "princes are blue\n",
      "I love James O\n"
     ]
    }
   ],
   "source": [
    "color = input(\"Enter a color: \")\n",
    "pluralNoun = input(\"Enter a plural noun: \")\n",
    "celebrity = input(\"Enter a celebrity: \")\n",
    "\n",
    "print(\"Roses are\", color)\n",
    "print(pluralNoun + \" are blue\")\n",
    "print(\"I love\", celebrity)"
   ]
  },
  {
   "cell_type": "code",
   "execution_count": 4,
   "metadata": {},
   "outputs": [
    {
     "name": "stdout",
     "output_type": "stream",
     "text": [
      "num1: 5\n",
      "Operator: 2\n",
      "num1: 3\n",
      "Invalid Operator\n"
     ]
    }
   ],
   "source": [
    "num1 = int(input(\"num1: \"))\n",
    "op = input(\"Operator: \")\n",
    "num1 = int(input(\"num1: \"))\n",
    "\n",
    "if op == \"+\":\n",
    "     print(num1 + num2)\n",
    "elif op == \"-\":\n",
    "     print(num1 - num2)\n",
    "elif op == \"/\":\n",
    "     print(num1 / num2)\n",
    "elif op == \"*\":\n",
    "     print(num1 * num2)\n",
    "else:\n",
    "     print(\"Invalid Operator\")"
   ]
  },
  {
   "cell_type": "code",
   "execution_count": 5,
   "metadata": {},
   "outputs": [
    {
     "name": "stdout",
     "output_type": "stream",
     "text": [
      "B+\n",
      "A\n",
      "95.2\n"
     ]
    }
   ],
   "source": [
    "\n",
    "test_grades = {\n",
    "    \"Andy\" : \"B+\",\n",
    "    \"Stanley\" : \"C\",\n",
    "    \"Ryan\" : \"A\",\n",
    "    3 : 95.2\n",
    "}\n",
    "\n",
    "print( test_grades[\"Andy\"] )\n",
    "print( test_grades.get(\"Ryan\", \"No Student Found\") )\n",
    "print( test_grades[3] )\n"
   ]
  },
  {
   "cell_type": "code",
   "execution_count": null,
   "metadata": {},
   "outputs": [],
   "source": []
  }
 ],
 "metadata": {
  "kernelspec": {
   "display_name": "Python 3",
   "language": "python",
   "name": "python3"
  },
  "language_info": {
   "codemirror_mode": {
    "name": "ipython",
    "version": 3
   },
   "file_extension": ".py",
   "mimetype": "text/x-python",
   "name": "python",
   "nbconvert_exporter": "python",
   "pygments_lexer": "ipython3",
   "version": "3.7.6"
  }
 },
 "nbformat": 4,
 "nbformat_minor": 4
}
