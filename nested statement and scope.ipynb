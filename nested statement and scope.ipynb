{
 "cells": [
  {
   "cell_type": "code",
   "execution_count": 1,
   "metadata": {},
   "outputs": [],
   "source": [
    "x = 25 \n",
    "\n",
    "def printer():\n",
    "    x = 50\n",
    "    return x "
   ]
  },
  {
   "cell_type": "code",
   "execution_count": 4,
   "metadata": {},
   "outputs": [
    {
     "name": "stdout",
     "output_type": "stream",
     "text": [
      "50\n"
     ]
    }
   ],
   "source": [
    "print(printer())"
   ]
  },
  {
   "cell_type": "code",
   "execution_count": 3,
   "metadata": {},
   "outputs": [
    {
     "data": {
      "text/plain": [
       "25"
      ]
     },
     "execution_count": 3,
     "metadata": {},
     "output_type": "execute_result"
    }
   ],
   "source": [
    "x"
   ]
  },
  {
   "cell_type": "code",
   "execution_count": 13,
   "metadata": {},
   "outputs": [
    {
     "name": "stdout",
     "output_type": "stream",
     "text": [
      "Hello I AM Local \n"
     ]
    }
   ],
   "source": [
    "name = 'This is a global string'\n",
    "\n",
    "def greet():\n",
    "    name = 'Sammy'\n",
    "    \n",
    "    def hello():\n",
    "        name = 'I AM Local '\n",
    "        print('Hello ' +name)\n",
    "        \n",
    "    hello()\n",
    "\n",
    "greet()"
   ]
  },
  {
   "cell_type": "code",
   "execution_count": 7,
   "metadata": {},
   "outputs": [
    {
     "data": {
      "text/plain": [
       "'This is a global string'"
      ]
     },
     "execution_count": 7,
     "metadata": {},
     "output_type": "execute_result"
    }
   ],
   "source": [
    "name"
   ]
  },
  {
   "cell_type": "code",
   "execution_count": 45,
   "metadata": {},
   "outputs": [],
   "source": [
    "a = 40\n",
    "def func(a):\n",
    "    print(f'X is {a}')\n",
    "    \n",
    "    a = 'STRING'\n",
    "    print(f'i just changed x to a {a}')\n",
    "    return a\n",
    "    "
   ]
  },
  {
   "cell_type": "code",
   "execution_count": 46,
   "metadata": {},
   "outputs": [
    {
     "name": "stdout",
     "output_type": "stream",
     "text": [
      "X is 40\n",
      "i just changed x to a STRING\n"
     ]
    },
    {
     "data": {
      "text/plain": [
       "'STRING'"
      ]
     },
     "execution_count": 46,
     "metadata": {},
     "output_type": "execute_result"
    }
   ],
   "source": [
    "func(a)"
   ]
  },
  {
   "cell_type": "code",
   "execution_count": 48,
   "metadata": {},
   "outputs": [
    {
     "name": "stdout",
     "output_type": "stream",
     "text": [
      "X is 40\n",
      "i just changed x to a STRING\n"
     ]
    }
   ],
   "source": [
    "a = func(a)"
   ]
  },
  {
   "cell_type": "code",
   "execution_count": 49,
   "metadata": {},
   "outputs": [
    {
     "data": {
      "text/plain": [
       "'STRING'"
      ]
     },
     "execution_count": 49,
     "metadata": {},
     "output_type": "execute_result"
    }
   ],
   "source": [
    "a"
   ]
  },
  {
   "cell_type": "code",
   "execution_count": 50,
   "metadata": {},
   "outputs": [],
   "source": [
    "def vol(rad):\n",
    "    return (4/3)*(3.14)*(rad**3)"
   ]
  },
  {
   "cell_type": "code",
   "execution_count": 51,
   "metadata": {},
   "outputs": [
    {
     "data": {
      "text/plain": [
       "33.49333333333333"
      ]
     },
     "execution_count": 51,
     "metadata": {},
     "output_type": "execute_result"
    }
   ],
   "source": [
    "vol(2)"
   ]
  },
  {
   "cell_type": "code",
   "execution_count": 67,
   "metadata": {},
   "outputs": [],
   "source": [
    "def ran_check(num,low,high):\n",
    "    if num in range(low,high+1):\n",
    "        print(f'{num} is in range {low} and {high}')\n",
    "    else:\n",
    "        print(f'{num} not in range of {low} and {high}')\n",
    "    "
   ]
  },
  {
   "cell_type": "code",
   "execution_count": 69,
   "metadata": {},
   "outputs": [
    {
     "name": "stdout",
     "output_type": "stream",
     "text": [
      "6 is in range 2 and 7\n"
     ]
    }
   ],
   "source": [
    "ran_check(6,2,7)"
   ]
  },
  {
   "cell_type": "code",
   "execution_count": 70,
   "metadata": {},
   "outputs": [],
   "source": [
    "def up_low(s):\n",
    "    lowercase = 0\n",
    "    uppercase = 0\n",
    "    for char in s:\n",
    "        if char.isupper():\n",
    "            uppercase +=1\n",
    "        elif char.islower():\n",
    "            lowercase +=1\n",
    "        else:\n",
    "            pass\n",
    "    print(f'Original String {s}')\n",
    "    print(f'Lowercase count: {lowercase}')\n",
    "    print(f'Uppercase count: {uppercase}')\n",
    "    "
   ]
  },
  {
   "cell_type": "code",
   "execution_count": 71,
   "metadata": {},
   "outputs": [
    {
     "name": "stdout",
     "output_type": "stream",
     "text": [
      "Original String What the fuck is GOING on Here!!?\n",
      "Lowercase count: 17\n",
      "Uppercase count: 7\n"
     ]
    }
   ],
   "source": [
    "up_low('What the fuck is GOING on Here!!?')"
   ]
  },
  {
   "cell_type": "code",
   "execution_count": 76,
   "metadata": {},
   "outputs": [],
   "source": [
    "def up_low1(s):\n",
    "    d = {'uppercase':0, 'lowercase':0}\n",
    "    for char in s:\n",
    "        if char.isupper():\n",
    "            d['uppercase'] +=1\n",
    "        elif char.islower():\n",
    "            d['lowercase'] +=1\n",
    "        else:\n",
    "            pass\n",
    "    print(f'Original String {s}')\n",
    "    print(f\"Lowercase count: {d['lowercase']}\")\n",
    "    print(f\"Uppercase count: {d['uppercase']}\")\n",
    "    "
   ]
  },
  {
   "cell_type": "code",
   "execution_count": 77,
   "metadata": {},
   "outputs": [
    {
     "name": "stdout",
     "output_type": "stream",
     "text": [
      "Original String What the fuck is GOING on Here!!?\n",
      "Lowercase count: 17\n",
      "Uppercase count: 7\n"
     ]
    }
   ],
   "source": [
    "up_low1('What the fuck is GOING on Here!!?')"
   ]
  },
  {
   "cell_type": "code",
   "execution_count": 78,
   "metadata": {},
   "outputs": [],
   "source": [
    "def unique_list(lst):\n",
    "    return list(set(lst))"
   ]
  },
  {
   "cell_type": "code",
   "execution_count": 80,
   "metadata": {},
   "outputs": [
    {
     "data": {
      "text/plain": [
       "[1, 2, 3, 4, 5, 6, 7, 8, 9]"
      ]
     },
     "execution_count": 80,
     "metadata": {},
     "output_type": "execute_result"
    }
   ],
   "source": [
    "unique_list([1,2,3,4,5,4,3,2,1,4,6,7,8,7,6,8,9,7,8,7,5])"
   ]
  },
  {
   "cell_type": "code",
   "execution_count": 81,
   "metadata": {},
   "outputs": [],
   "source": [
    "def uni_list(lst):\n",
    "    seen_number = []\n",
    "    for number in lst:\n",
    "        if number not in seen_number:\n",
    "            seen_number.append(number)\n",
    "    return seen_number"
   ]
  },
  {
   "cell_type": "code",
   "execution_count": 82,
   "metadata": {},
   "outputs": [
    {
     "data": {
      "text/plain": [
       "[1, 2, 3, 4, 5, 12]"
      ]
     },
     "execution_count": 82,
     "metadata": {},
     "output_type": "execute_result"
    }
   ],
   "source": [
    "uni_list([1,2,3,4,5,1,2,3,4,12,3,4,5])"
   ]
  },
  {
   "cell_type": "code",
   "execution_count": 83,
   "metadata": {},
   "outputs": [],
   "source": [
    "def multiply(numbers):\n",
    "    total = 1\n",
    "    for num in numbers:\n",
    "        total = total * num\n",
    "    return total "
   ]
  },
  {
   "cell_type": "code",
   "execution_count": 84,
   "metadata": {},
   "outputs": [
    {
     "data": {
      "text/plain": [
       "6"
      ]
     },
     "execution_count": 84,
     "metadata": {},
     "output_type": "execute_result"
    }
   ],
   "source": [
    "multiply([1,2,3])"
   ]
  },
  {
   "cell_type": "code",
   "execution_count": 104,
   "metadata": {},
   "outputs": [],
   "source": [
    "def palindrome(s):\n",
    "    s = s.replace(' ','')\n",
    "    s = s[::-1]\n",
    "    return s"
   ]
  },
  {
   "cell_type": "code",
   "execution_count": 106,
   "metadata": {},
   "outputs": [
    {
     "data": {
      "text/plain": [
       "'gnineppahstahw'"
      ]
     },
     "execution_count": 106,
     "metadata": {},
     "output_type": "execute_result"
    }
   ],
   "source": [
    "palindrome('whats hap pen ing')"
   ]
  },
  {
   "cell_type": "code",
   "execution_count": 111,
   "metadata": {},
   "outputs": [],
   "source": [
    "import string\n",
    "\n",
    "def ispanagram(str1, alphabet=string.ascii_lowercase):\n",
    "\n",
    "    #Create a set of the alphabet\n",
    "    alphaset = set(alphabet)\n",
    "    print(alphaset)\n",
    "    #remove any spaces from the input string\n",
    "    str1 = str1.replace(' ','')\n",
    "    print(str1)\n",
    "    #Convert into all lowercase\n",
    "    str1 = str1.lower()\n",
    "    #Grab all unique letters from the string set()\n",
    "    str1 = set(str1)\n",
    "    #alphabet set == string set input\n",
    "    return str1 == alphaset"
   ]
  },
  {
   "cell_type": "code",
   "execution_count": 112,
   "metadata": {},
   "outputs": [
    {
     "name": "stdout",
     "output_type": "stream",
     "text": [
      "{'t', 'w', 'y', 'h', 'j', 's', 'e', 'c', 'f', 'k', 'z', 'q', 'b', 'x', 'g', 'd', 'n', 'v', 'r', 'l', 'i', 'a', 'u', 'o', 'm', 'p'}\n",
      "Thequickbrownfoxjumpsoverthelazydog\n"
     ]
    },
    {
     "data": {
      "text/plain": [
       "True"
      ]
     },
     "execution_count": 112,
     "metadata": {},
     "output_type": "execute_result"
    }
   ],
   "source": [
    "ispanagram('The quick brown fox jumps over the lazy dog')"
   ]
  },
  {
   "cell_type": "code",
   "execution_count": 113,
   "metadata": {},
   "outputs": [
    {
     "data": {
      "text/plain": [
       "'abcdefghijklmnopqrstuvwxyz'"
      ]
     },
     "execution_count": 113,
     "metadata": {},
     "output_type": "execute_result"
    }
   ],
   "source": [
    "string.ascii_lowercase"
   ]
  },
  {
   "cell_type": "code",
   "execution_count": 114,
   "metadata": {},
   "outputs": [
    {
     "data": {
      "text/plain": [
       "'ABCDEFGHIJKLMNOPQRSTUVWXYZ'"
      ]
     },
     "execution_count": 114,
     "metadata": {},
     "output_type": "execute_result"
    }
   ],
   "source": [
    "string.ascii_uppercase"
   ]
  },
  {
   "cell_type": "code",
   "execution_count": null,
   "metadata": {},
   "outputs": [],
   "source": []
  }
 ],
 "metadata": {
  "kernelspec": {
   "display_name": "Python 3",
   "language": "python",
   "name": "python3"
  },
  "language_info": {
   "codemirror_mode": {
    "name": "ipython",
    "version": 3
   },
   "file_extension": ".py",
   "mimetype": "text/x-python",
   "name": "python",
   "nbconvert_exporter": "python",
   "pygments_lexer": "ipython3",
   "version": "3.7.6"
  }
 },
 "nbformat": 4,
 "nbformat_minor": 4
}
