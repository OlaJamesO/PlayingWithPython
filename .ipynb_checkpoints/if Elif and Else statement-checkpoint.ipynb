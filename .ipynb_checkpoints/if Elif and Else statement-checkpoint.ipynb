{
 "cells": [
  {
   "cell_type": "code",
   "execution_count": 3,
   "metadata": {},
   "outputs": [
    {
     "name": "stdout",
     "output_type": "stream",
     "text": [
      "its true\n"
     ]
    }
   ],
   "source": [
    "if 3 > 2:\n",
    "    print('its true')"
   ]
  },
  {
   "cell_type": "code",
   "execution_count": 8,
   "metadata": {},
   "outputs": [
    {
     "name": "stdout",
     "output_type": "stream",
     "text": [
      "FEED ME!\n"
     ]
    }
   ],
   "source": [
    "Hungry = True \n",
    "\n",
    "if Hungry:\n",
    "    print('FEED ME!')\n",
    "else:\n",
    "    print('Not hungry')"
   ]
  },
  {
   "cell_type": "markdown",
   "metadata": {},
   "source": [
    "multiple branches using if elif else"
   ]
  },
  {
   "cell_type": "code",
   "execution_count": 14,
   "metadata": {},
   "outputs": [
    {
     "name": "stdout",
     "output_type": "stream",
     "text": [
      "I dont not know much.\n"
     ]
    }
   ],
   "source": [
    "loc = 'Shop'\n",
    "\n",
    "if loc == 'Auto Shop':\n",
    "    print('Cars are cool!')\n",
    "    \n",
    "elif loc == 'Bank':\n",
    "    print('Money is cool')\n",
    "    \n",
    "elif loc == 'Store':\n",
    "    print('Welcome to the store!')\n",
    "    \n",
    "else:\n",
    "    print('I dont not know much.')"
   ]
  },
  {
   "cell_type": "code",
   "execution_count": 17,
   "metadata": {},
   "outputs": [
    {
     "name": "stdout",
     "output_type": "stream",
     "text": [
      "What is your name?\n"
     ]
    }
   ],
   "source": [
    "name = 'Ade'\n",
    "\n",
    "if name == 'Franky':\n",
    "    print('Hello Franky!')\n",
    "elif name == 'Sammy':\n",
    "    print('Hello Sammy!')\n",
    "else:\n",
    "    print('What is your name?')"
   ]
  },
  {
   "cell_type": "code",
   "execution_count": null,
   "metadata": {},
   "outputs": [],
   "source": []
  }
 ],
 "metadata": {
  "kernelspec": {
   "display_name": "Python 3",
   "language": "python",
   "name": "python3"
  },
  "language_info": {
   "codemirror_mode": {
    "name": "ipython",
    "version": 3
   },
   "file_extension": ".py",
   "mimetype": "text/x-python",
   "name": "python",
   "nbconvert_exporter": "python",
   "pygments_lexer": "ipython3",
   "version": "3.7.6"
  }
 },
 "nbformat": 4,
 "nbformat_minor": 4
}
