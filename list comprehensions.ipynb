{
 "cells": [
  {
   "cell_type": "code",
   "execution_count": 1,
   "metadata": {},
   "outputs": [],
   "source": [
    "mystring = 'Hello'"
   ]
  },
  {
   "cell_type": "code",
   "execution_count": 5,
   "metadata": {},
   "outputs": [
    {
     "name": "stdout",
     "output_type": "stream",
     "text": [
      "['H', 'e', 'l', 'l', 'o']\n"
     ]
    }
   ],
   "source": [
    "mylist = []\n",
    "\n",
    "for letter in mystring:\n",
    "    mylist.append(letter)\n",
    "print(mylist)"
   ]
  },
  {
   "cell_type": "markdown",
   "metadata": {},
   "source": [
    "list comprehension style"
   ]
  },
  {
   "cell_type": "code",
   "execution_count": 7,
   "metadata": {},
   "outputs": [
    {
     "data": {
      "text/plain": [
       "['H', 'e', 'l', 'l', 'o']"
      ]
     },
     "execution_count": 7,
     "metadata": {},
     "output_type": "execute_result"
    }
   ],
   "source": [
    "mylist = [letter for letter in mystring]\n",
    "mylist "
   ]
  },
  {
   "cell_type": "code",
   "execution_count": 9,
   "metadata": {},
   "outputs": [
    {
     "data": {
      "text/plain": [
       "['w', 'o', 'r', 'd']"
      ]
     },
     "execution_count": 9,
     "metadata": {},
     "output_type": "execute_result"
    }
   ],
   "source": [
    "mylist = [x for x in 'word']\n",
    "mylist"
   ]
  },
  {
   "cell_type": "code",
   "execution_count": 41,
   "metadata": {},
   "outputs": [
    {
     "data": {
      "text/plain": [
       "[0, 1, 4, 9, 16, 25, 36, 49, 64, 81, 100]"
      ]
     },
     "execution_count": 41,
     "metadata": {},
     "output_type": "execute_result"
    }
   ],
   "source": [
    "from random import randint \n",
    "mynum = [num**2 for num in range(randint(0,11))]\n",
    "mynum"
   ]
  },
  {
   "cell_type": "code",
   "execution_count": 76,
   "metadata": {},
   "outputs": [
    {
     "data": {
      "text/plain": [
       "[0, 9, 36, 81, 144, 225, 324, 441, 576, 729, 900, 1089]"
      ]
     },
     "execution_count": 76,
     "metadata": {},
     "output_type": "execute_result"
    }
   ],
   "source": [
    "from random import randint \n",
    "mynum = [num**2 for num in range(randint(0,40)) if num %3 == 0]\n",
    "mynum"
   ]
  },
  {
   "cell_type": "code",
   "execution_count": 84,
   "metadata": {},
   "outputs": [
    {
     "name": "stdout",
     "output_type": "stream",
     "text": [
      "0 degree celcius is 32.0 fahrenheit\n",
      "10 degree celcius is 50.0 fahrenheit\n",
      "20 degree celcius is 68.0 fahrenheit\n",
      "34.5 degree celcius is 94.1 fahrenheit\n"
     ]
    }
   ],
   "source": [
    "celcius = [0,10,20,34.5]\n",
    "fahrenheit = [((9/5)*temp +32) for temp in celcius]\n",
    "\n",
    "for cel,fah in zip(celcius,fahrenheit):\n",
    "    print(f'{cel} degree celcius is {fah} fahrenheit')"
   ]
  },
  {
   "cell_type": "code",
   "execution_count": 81,
   "metadata": {},
   "outputs": [
    {
     "data": {
      "text/plain": [
       "<zip at 0x155eb1e2f48>"
      ]
     },
     "execution_count": 81,
     "metadata": {},
     "output_type": "execute_result"
    }
   ],
   "source": [
    "result"
   ]
  },
  {
   "cell_type": "code",
   "execution_count": 91,
   "metadata": {},
   "outputs": [
    {
     "name": "stdout",
     "output_type": "stream",
     "text": [
      "[2, 20, 2000, 4, 40, 4000, 6, 60, 6000]\n"
     ]
    }
   ],
   "source": [
    "mylist = []\n",
    "\n",
    "for x in [2,4,6]:\n",
    "    for y in [1,10,1000]:\n",
    "        mylist.append(x*y)\n",
    "    \n",
    "print(mylist)"
   ]
  },
  {
   "cell_type": "code",
   "execution_count": 93,
   "metadata": {},
   "outputs": [
    {
     "data": {
      "text/plain": [
       "[200, 400, 600, 400, 800, 1200, 600, 1200, 1800]"
      ]
     },
     "execution_count": 93,
     "metadata": {},
     "output_type": "execute_result"
    }
   ],
   "source": [
    "mylist = [x*y for x in [2,4,6] for y in [100,200,300]]\n",
    "mylist"
   ]
  },
  {
   "cell_type": "code",
   "execution_count": 94,
   "metadata": {},
   "outputs": [],
   "source": [
    "st = \"print some with sentence that start with s\""
   ]
  },
  {
   "cell_type": "code",
   "execution_count": 95,
   "metadata": {},
   "outputs": [
    {
     "data": {
      "text/plain": [
       "['print', 'some', 'with', 'sentence', 'that', 'start', 'with', 's']"
      ]
     },
     "execution_count": 95,
     "metadata": {},
     "output_type": "execute_result"
    }
   ],
   "source": [
    "st.split()"
   ]
  },
  {
   "cell_type": "code",
   "execution_count": 99,
   "metadata": {},
   "outputs": [
    {
     "name": "stdout",
     "output_type": "stream",
     "text": [
      "some\n",
      "sentence\n",
      "start\n",
      "s\n"
     ]
    }
   ],
   "source": [
    "for i in st.split():\n",
    "    if 's' in i:\n",
    "        print(i)"
   ]
  },
  {
   "cell_type": "code",
   "execution_count": 108,
   "metadata": {},
   "outputs": [
    {
     "name": "stdout",
     "output_type": "stream",
     "text": [
      "0\n",
      "1\n",
      "2\n",
      "3\n",
      "4\n",
      "5\n",
      "6\n",
      "7\n",
      "8\n",
      "9\n",
      "10\n"
     ]
    }
   ],
   "source": [
    "for i in range(0,11):\n",
    "    print(i)"
   ]
  },
  {
   "cell_type": "code",
   "execution_count": 110,
   "metadata": {},
   "outputs": [
    {
     "data": {
      "text/plain": [
       "[3, 6, 9, 12, 15, 18, 21, 24, 27, 30, 33, 36, 39, 42, 45, 48]"
      ]
     },
     "execution_count": 110,
     "metadata": {},
     "output_type": "execute_result"
    }
   ],
   "source": [
    "listcum = [num for num in range(1,50) if num % 3 == 0]\n",
    "listcum"
   ]
  },
  {
   "cell_type": "code",
   "execution_count": 210,
   "metadata": {},
   "outputs": [
    {
     "name": "stdout",
     "output_type": "stream",
     "text": [
      "Even!\n",
      "Even!\n",
      "Even!\n",
      "Even!\n",
      "Even!\n",
      "Even!\n",
      "Even!\n",
      "Even!\n",
      "Even!\n",
      "ODD\n"
     ]
    }
   ],
   "source": [
    "sta = 'print every word in this sentence that has an even number of letters'\n",
    "\n",
    "for items in sta.split():\n",
    "    if len(items) %2 == 0:\n",
    "        print(\"Even!\")\n",
    "else:\n",
    "        print('ODD')"
   ]
  },
  {
   "cell_type": "code",
   "execution_count": 203,
   "metadata": {},
   "outputs": [
    {
     "data": {
      "text/plain": [
       "1"
      ]
     },
     "execution_count": 203,
     "metadata": {},
     "output_type": "execute_result"
    }
   ],
   "source": [
    "items.count(items)"
   ]
  },
  {
   "cell_type": "code",
   "execution_count": 168,
   "metadata": {},
   "outputs": [
    {
     "data": {
      "text/plain": [
       "['print',\n",
       " 'every',\n",
       " 'word',\n",
       " 'in',\n",
       " 'this',\n",
       " 'sentence',\n",
       " 'that',\n",
       " 'has',\n",
       " 'an',\n",
       " 'even',\n",
       " 'number',\n",
       " 'of',\n",
       " 'letters']"
      ]
     },
     "execution_count": 168,
     "metadata": {},
     "output_type": "execute_result"
    }
   ],
   "source": [
    "list(st.split())"
   ]
  },
  {
   "cell_type": "code",
   "execution_count": 162,
   "metadata": {},
   "outputs": [
    {
     "data": {
      "text/plain": [
       "['print',\n",
       " 'every',\n",
       " 'word',\n",
       " 'in',\n",
       " 'this',\n",
       " 'sentence',\n",
       " 'that',\n",
       " 'has',\n",
       " 'an',\n",
       " 'even',\n",
       " 'number',\n",
       " 'of',\n",
       " 'letters']"
      ]
     },
     "execution_count": 162,
     "metadata": {},
     "output_type": "execute_result"
    }
   ],
   "source": [
    "a"
   ]
  },
  {
   "cell_type": "code",
   "execution_count": 186,
   "metadata": {},
   "outputs": [
    {
     "name": "stdout",
     "output_type": "stream",
     "text": [
      "fizzbuzz\n",
      "1\n",
      "2\n",
      "fizz\n",
      "4\n",
      "buzz\n",
      "fizz\n",
      "7\n",
      "8\n",
      "fizz\n",
      "buzz\n",
      "11\n",
      "fizz\n",
      "13\n",
      "14\n",
      "fizzbuzz\n",
      "16\n",
      "17\n",
      "fizz\n",
      "19\n",
      "buzz\n",
      "fizz\n",
      "22\n",
      "23\n",
      "fizz\n",
      "buzz\n",
      "26\n",
      "fizz\n",
      "28\n",
      "29\n",
      "fizzbuzz\n",
      "31\n",
      "32\n",
      "fizz\n",
      "34\n",
      "buzz\n",
      "fizz\n",
      "37\n",
      "38\n",
      "fizz\n",
      "buzz\n",
      "41\n",
      "fizz\n",
      "43\n",
      "44\n",
      "fizzbuzz\n",
      "46\n",
      "47\n",
      "fizz\n",
      "49\n",
      "buzz\n",
      "fizz\n",
      "52\n",
      "53\n",
      "fizz\n",
      "buzz\n",
      "56\n",
      "fizz\n",
      "58\n",
      "59\n",
      "fizzbuzz\n",
      "61\n",
      "62\n",
      "fizz\n",
      "64\n",
      "buzz\n",
      "fizz\n",
      "67\n",
      "68\n",
      "fizz\n",
      "buzz\n",
      "71\n",
      "fizz\n",
      "73\n",
      "74\n",
      "fizzbuzz\n",
      "76\n",
      "77\n",
      "fizz\n",
      "79\n",
      "buzz\n",
      "fizz\n",
      "82\n",
      "83\n",
      "fizz\n",
      "buzz\n",
      "86\n",
      "fizz\n",
      "88\n",
      "89\n",
      "fizzbuzz\n",
      "91\n",
      "92\n",
      "fizz\n",
      "94\n",
      "buzz\n",
      "fizz\n",
      "97\n",
      "98\n",
      "fizz\n",
      "buzz\n"
     ]
    }
   ],
   "source": [
    "for fizzbuzz in range(101):\n",
    "    if fizzbuzz % 3 == 0 and fizzbuzz % 5 == 0:\n",
    "        print('fizzbuzz')\n",
    "        continue\n",
    "    elif fizzbuzz % 3 == 0:\n",
    "        print('fizz')\n",
    "        continue\n",
    "    elif fizzbuzz % 5 == 0:\n",
    "        print('buzz')\n",
    "        continue\n",
    "    print(fizzbuzz)"
   ]
  },
  {
   "cell_type": "code",
   "execution_count": 248,
   "metadata": {},
   "outputs": [
    {
     "name": "stdout",
     "output_type": "stream",
     "text": [
      "odd\n",
      "odd\n",
      "Even!\n",
      "Even!\n",
      "Even!\n",
      "Even!\n",
      "Even!\n",
      "odd\n",
      "Even!\n",
      "Even!\n",
      "Even!\n",
      "Even!\n",
      "odd\n"
     ]
    }
   ],
   "source": [
    "sta = 'print every word in this sentence that has an even number of letters'\n",
    "for g in sta.split(' '):\n",
    "    if len(g) % 2 == 0:\n",
    "        print('Even!')\n",
    "    elif len(g) % 2 == 1:\n",
    "        print('odd')"
   ]
  },
  {
   "cell_type": "code",
   "execution_count": 220,
   "metadata": {},
   "outputs": [
    {
     "data": {
      "text/plain": [
       "1"
      ]
     },
     "execution_count": 220,
     "metadata": {},
     "output_type": "execute_result"
    }
   ],
   "source": [
    "len(i) % 2"
   ]
  },
  {
   "cell_type": "code",
   "execution_count": 237,
   "metadata": {},
   "outputs": [
    {
     "data": {
      "text/plain": [
       "'letters'"
      ]
     },
     "execution_count": 237,
     "metadata": {},
     "output_type": "execute_result"
    }
   ],
   "source": [
    "g"
   ]
  },
  {
   "cell_type": "code",
   "execution_count": null,
   "metadata": {},
   "outputs": [],
   "source": []
  }
 ],
 "metadata": {
  "kernelspec": {
   "display_name": "Python 3",
   "language": "python",
   "name": "python3"
  },
  "language_info": {
   "codemirror_mode": {
    "name": "ipython",
    "version": 3
   },
   "file_extension": ".py",
   "mimetype": "text/x-python",
   "name": "python",
   "nbconvert_exporter": "python",
   "pygments_lexer": "ipython3",
   "version": "3.7.6"
  }
 },
 "nbformat": 4,
 "nbformat_minor": 4
}
